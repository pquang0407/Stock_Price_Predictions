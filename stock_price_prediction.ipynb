{
 "cells": [
  {
   "cell_type": "code",
   "execution_count": null,
   "id": "73a83056-0bac-43f7-af24-85e7e1e4df09",
   "metadata": {},
   "outputs": [],
   "source": [
    "import pandas as pd\n",
    "import numpy as np\n",
    "import matplotlib.pyplot as plt\n",
    "from sklearn.preprocessing import MinMaxScaler\n",
    "from keras.models import Sequential\n",
    "from keras.layers import Dense, LSTM\n",
    "from sklearn.metrics import mean_squared_error"
   ]
  },
  {
   "cell_type": "code",
   "execution_count": null,
   "id": "687efb7c-a615-4778-83b7-f5918ccddf31",
   "metadata": {},
   "outputs": [],
   "source": [
    "# Đọc dữ liệu từ file CSV và chuyển đổi định dạng của cột 'Date/Time'\n",
    "\n",
    "def read_and_process_data(file_path):\n",
    "    df = pd.read_csv(file_path)\n",
    "    df['Date/Time'] = pd.to_datetime(df['Date/Time'], format='%m/%d/%Y %H:%M')\n",
    "    df['Date'] = df['Date/Time'].dt.date\n",
    "    df = df.drop_duplicates(['Date'], keep='last')\n",
    "    return df\n",
    "\n",
    "fpt = read_and_process_data('datasets/FPT.csv')\n",
    "msn = read_and_process_data('datasets/MSN.csv')\n",
    "pnj = read_and_process_data('datasets/PNJ.csv')\n",
    "vic = read_and_process_data('datasets/VIC.csv')\n",
    "\n",
    "fpt['Date/Time'] = pd.to_datetime(fpt['Date/Time'], format='%m/%d/%Y %H:%M')\n",
    "msn['Date/Time'] = pd.to_datetime(msn['Date/Time'], format = '%m/%d/%Y %H:%M')\n",
    "pnj['Date/Time'] = pd.to_datetime(pnj['Date/Time'], format = '%m/%d/%Y %H:%M')\n",
    "vic['Date/Time'] = pd.to_datetime(vic['Date/Time'], format = '%m/%d/%Y %H:%M')\n"
   ]
  },
  {
   "cell_type": "code",
   "execution_count": null,
   "id": "33726e4b",
   "metadata": {},
   "outputs": [],
   "source": [
    "from collections import Counter\n",
    "\n",
    "# find the times that appear the most for each of stocks\n",
    "most_appearning_time_fpt = Counter(fpt['Date/Time'].dt.time)\n",
    "print('The most appearing time for FPT shares:', most_appearning_time_fpt.most_common())\n",
    "most_appearning_time_msn = Counter(msn['Date/Time'].dt.time)\n",
    "print('The most appearing time for MSN shares:', most_appearning_time_msn.most_common())\n",
    "most_appearning_time_pnj = Counter(pnj['Date/Time'].dt.time)\n",
    "print('The most appearing time for PNJ shares:', most_appearning_time_pnj.most_common())\n",
    "most_appearning_time_vic = Counter(vic['Date/Time'].dt.time)\n",
    "print('The most appearing time for VIC shares:', most_appearning_time_vic.most_common())"
   ]
  },
  {
   "cell_type": "code",
   "execution_count": null,
   "id": "3b307364",
   "metadata": {},
   "outputs": [],
   "source": [
    "# Chọn dữ liệu chỉ ở thời điểm 14:46:00\n",
    "fpt = fpt[(fpt['Date/Time'].dt.time.astype(str) == '14:46:00')]\n",
    "msn = msn[(msn['Date/Time'].dt.time.astype(str) == '14:46:00')]\n",
    "pnj = pnj[(pnj['Date/Time'].dt.time.astype(str) == '14:46:00')]\n",
    "vic = vic[(vic['Date/Time'].dt.time.astype(str) == '14:46:00')]\n",
    "\n",
    "\n",
    "fpt = fpt.set_index('Date')\n",
    "msn = msn.set_index('Date')\n",
    "pnj = pnj.set_index('Date')\n",
    "vic = vic.set_index('Date')"
   ]
  },
  {
   "cell_type": "markdown",
   "id": "a3a9fc45",
   "metadata": {},
   "source": [
    "1. FPT"
   ]
  },
  {
   "cell_type": "code",
   "execution_count": null,
   "id": "1f4f9222",
   "metadata": {},
   "outputs": [],
   "source": [
    "fpt.head()"
   ]
  },
  {
   "cell_type": "markdown",
   "id": "c88453f0",
   "metadata": {},
   "source": [
    "CLOSING PRICE OF FPT"
   ]
  },
  {
   "cell_type": "code",
   "execution_count": null,
   "id": "ef66b11c",
   "metadata": {},
   "outputs": [],
   "source": [
    "# Hiển thị biểu đồ giá đóng cửa của cổ phiếu FPT\n",
    "plt.figure(figsize=(16, 6))\n",
    "plt.title('Close Price History - FPT')\n",
    "plt.plot(fpt['Close'])\n",
    "plt.xlabel('Date', fontsize=18)\n",
    "plt.ylabel('Close Price', fontsize=18)\n",
    "plt.show()"
   ]
  },
  {
   "cell_type": "code",
   "execution_count": null,
   "id": "304ddd30",
   "metadata": {},
   "outputs": [],
   "source": [
    "# Tính biến động giá cổ phiếu\n",
    "N = 1 # Đổi thành số phút, giờ hoặc ngày mà bạn muốn tính biến động\n",
    "fpt['Close Future'] = fpt['Close'].shift(-N)\n",
    "fpt['Price Change'] = fpt['Close Future'] - fpt['Close']\n",
    "\n",
    "# Loại bỏ dòng có giá trị NaN\n",
    "fpt.dropna(inplace=True)"
   ]
  },
  {
   "cell_type": "code",
   "execution_count": null,
   "id": "25ddd777",
   "metadata": {},
   "outputs": [],
   "source": [
    "fpt.head()"
   ]
  },
  {
   "cell_type": "code",
   "execution_count": null,
   "id": "dddaea01",
   "metadata": {},
   "outputs": [],
   "source": [
    "# Chuẩn hóa dữ liệu\n",
    "scaler = MinMaxScaler(feature_range=(0, 1))\n",
    "scaled_data = scaler.fit_transform(fpt['Price Change'].values.reshape(-1, 1))"
   ]
  },
  {
   "cell_type": "code",
   "execution_count": null,
   "id": "27ff6397",
   "metadata": {},
   "outputs": [],
   "source": [
    "# Tạo training set và test set\n",
    "training_data_len = int(np.ceil(len(scaled_data) * .95))\n",
    "train_data = scaled_data[0:training_data_len, :]"
   ]
  },
  {
   "cell_type": "code",
   "execution_count": null,
   "id": "5142563a",
   "metadata": {},
   "outputs": [],
   "source": [
    "# Tạo dữ liệu huấn luyện\n",
    "x_train, y_train = [], []\n",
    "for i in range(60, len(train_data)):\n",
    "    x_train.append(train_data[i-60:i, 0])\n",
    "    y_train.append(train_data[i, 0])\n",
    "\n",
    "x_train, y_train = np.array(x_train), np.array(y_train)\n",
    "x_train = np.reshape(x_train, (x_train.shape[0], x_train.shape[1], 1))"
   ]
  },
  {
   "cell_type": "code",
   "execution_count": null,
   "id": "e0206607",
   "metadata": {},
   "outputs": [],
   "source": [
    "# Xây dựng mô hình LSTM\n",
    "model = Sequential()\n",
    "model.add(LSTM(units=128, return_sequences=True, input_shape=(x_train.shape[1], 1)))\n",
    "model.add(LSTM(units=64, return_sequences=False))\n",
    "model.add(Dense(units=25))\n",
    "model.add(Dense(units=1))"
   ]
  },
  {
   "cell_type": "code",
   "execution_count": null,
   "id": "4590245c",
   "metadata": {},
   "outputs": [],
   "source": [
    "# Compile model\n",
    "model.compile(optimizer='adam', loss='mean_squared_error')"
   ]
  },
  {
   "cell_type": "code",
   "execution_count": null,
   "id": "8d164066",
   "metadata": {},
   "outputs": [],
   "source": [
    "# Huấn luyện mô hình\n",
    "model.fit(x_train, y_train, batch_size=1, epochs=1)\n"
   ]
  },
  {
   "cell_type": "code",
   "execution_count": null,
   "id": "4d683520",
   "metadata": {},
   "outputs": [],
   "source": [
    "# Dự đoán trên tập test\n",
    "test_data = scaled_data[training_data_len - 60:, :]\n",
    "x_test, y_test = [], fpt['Price Change'].values[training_data_len:]\n",
    "\n",
    "for i in range(60, len(test_data)):\n",
    "    x_test.append(test_data[i-60:i, 0])\n",
    "\n",
    "x_test = np.array(x_test)\n",
    "x_test = np.reshape(x_test, (x_test.shape[0], x_test.shape[1], 1))\n",
    "\n",
    "predictions = model.predict(x_test)\n",
    "predictions = scaler.inverse_transform(predictions)"
   ]
  },
  {
   "cell_type": "code",
   "execution_count": null,
   "id": "76fe0795",
   "metadata": {},
   "outputs": [],
   "source": [
    "# Tính RMSE\n",
    "rmse = np.sqrt(mean_squared_error(y_test, predictions))\n",
    "print(\"Root Mean Squared Error (RMSE):\", rmse)"
   ]
  },
  {
   "cell_type": "markdown",
   "id": "14c99808",
   "metadata": {},
   "source": [
    "FPT Stock Price Prediction"
   ]
  },
  {
   "cell_type": "code",
   "execution_count": null,
   "id": "a0246849",
   "metadata": {},
   "outputs": [],
   "source": [
    "# Vẽ biểu đồ\n",
    "train = fpt[:training_data_len]\n",
    "valid = fpt[training_data_len:].copy()\n",
    "valid['Predictions'] = predictions\n",
    "plt.figure(figsize=(16, 6))\n",
    "plt.title('FPT Stock Price Prediction')\n",
    "plt.xlabel('Date', fontsize=18)\n",
    "plt.ylabel('Close Price', fontsize=18)\n",
    "plt.plot(train['Close'])\n",
    "plt.plot(valid['Close'])\n",
    "plt.plot(valid['Predictions'])\n",
    "plt.ylim(30, 60)\n",
    "plt.legend(['Close','Predictions'], loc='lower right')\n",
    "\n",
    "plt.show()\n"
   ]
  },
  {
   "cell_type": "markdown",
   "id": "7f508c41",
   "metadata": {},
   "source": [
    "FPT STOCK PRICE CHANGE"
   ]
  },
  {
   "cell_type": "code",
   "execution_count": null,
   "id": "1ce3dba9",
   "metadata": {},
   "outputs": [],
   "source": [
    "plt.figure(figsize=(20,10))\n",
    "plt.title('FPT Stock Price Change')\n",
    "plt.xlabel('Date', fontsize=14)\n",
    "plt.plot(valid['Close'],  label='Close Price')\n",
    "plt.ylabel('Close Price', fontsize=18)\n",
    "plt.legend(loc='lower right')\n",
    "plt.twinx()\n",
    "plt.plot(valid.index, valid['Price Change'], color='red', linestyle='dashed',  label='Price Change')\n",
    "plt.ylabel('Price Change', fontsize=18)\n",
    "plt.ylim(-2, 2) \n",
    "plt.legend(loc='upper left')\n",
    "plt.show()"
   ]
  },
  {
   "cell_type": "code",
   "execution_count": null,
   "id": "100b38c7",
   "metadata": {},
   "outputs": [],
   "source": [
    "valid"
   ]
  },
  {
   "cell_type": "markdown",
   "id": "107b9d1a",
   "metadata": {},
   "source": [
    "2. MSN"
   ]
  },
  {
   "cell_type": "code",
   "execution_count": null,
   "id": "96ad377b",
   "metadata": {},
   "outputs": [],
   "source": [
    "msn.head()"
   ]
  },
  {
   "cell_type": "markdown",
   "id": "7656a0d6",
   "metadata": {},
   "source": [
    "CLOSING PRICE OF MSN"
   ]
  },
  {
   "cell_type": "code",
   "execution_count": null,
   "metadata": {},
   "outputs": [],
   "source": [
    "# Hiển thị biểu đồ giá đóng cửa của cổ phiếu msn\n",
    "plt.figure(figsize=(16, 6))\n",
    "plt.title('Close Price History - MSN')\n",
    "plt.plot(msn['Close'])\n",
    "plt.xlabel('Date', fontsize=18)\n",
    "plt.ylabel('Close Price', fontsize=18)\n",
    "plt.show()"
   ]
  },
  {
   "cell_type": "code",
   "execution_count": null,
   "id": "5e5365a4",
   "metadata": {},
   "outputs": [],
   "source": [
    "# Tính biến động giá cổ phiếu\n",
    "N = 1 # Đổi thành số phút, giờ hoặc ngày mà bạn muốn tính biến động\n",
    "msn['Close Future'] = msn['Close'].shift(-N)\n",
    "msn['Price Change'] = msn['Close Future'] - msn['Close']\n",
    "\n",
    "# Loại bỏ dòng có giá trị NaN\n",
    "msn.dropna(inplace=True)"
   ]
  },
  {
   "cell_type": "code",
   "execution_count": null,
   "id": "14109b1e",
   "metadata": {},
   "outputs": [],
   "source": [
    "msn.head()"
   ]
  },
  {
   "cell_type": "code",
   "execution_count": null,
   "id": "34314aa0",
   "metadata": {},
   "outputs": [],
   "source": [
    "# Chuẩn hóa dữ liệu\n",
    "scaler = MinMaxScaler(feature_range=(0, 1))\n",
    "scaled_data = scaler.fit_transform(msn['Price Change'].values.reshape(-1, 1))"
   ]
  },
  {
   "cell_type": "code",
   "execution_count": null,
   "id": "422daee8",
   "metadata": {},
   "outputs": [],
   "source": [
    "# Tạo training set và test set\n",
    "training_data_len = int(np.ceil(len(scaled_data) * .95))\n",
    "train_data = scaled_data[0:training_data_len, :]"
   ]
  },
  {
   "cell_type": "code",
   "execution_count": null,
   "id": "0059e311",
   "metadata": {},
   "outputs": [],
   "source": [
    "# Tạo dữ liệu huấn luyện\n",
    "x_train, y_train = [], []\n",
    "for i in range(60, len(train_data)):\n",
    "    x_train.append(train_data[i-60:i, 0])\n",
    "    y_train.append(train_data[i, 0])\n",
    "\n",
    "x_train, y_train = np.array(x_train), np.array(y_train)\n",
    "x_train = np.reshape(x_train, (x_train.shape[0], x_train.shape[1], 1))"
   ]
  },
  {
   "cell_type": "code",
   "execution_count": null,
   "id": "f1d49f0d",
   "metadata": {},
   "outputs": [],
   "source": [
    "# Xây dựng mô hình LSTM\n",
    "model = Sequential()\n",
    "model.add(LSTM(units=128, return_sequences=True, input_shape=(x_train.shape[1], 1)))\n",
    "model.add(LSTM(units=64, return_sequences=False))\n",
    "model.add(Dense(units=25))\n",
    "model.add(Dense(units=1))"
   ]
  },
  {
   "cell_type": "code",
   "execution_count": null,
   "id": "b2b76806",
   "metadata": {},
   "outputs": [],
   "source": [
    "# Compile model\n",
    "model.compile(optimizer='adam', loss='mean_squared_error')"
   ]
  },
  {
   "cell_type": "code",
   "execution_count": null,
   "id": "7ea5d549",
   "metadata": {},
   "outputs": [],
   "source": [
    "# Huấn luyện mô hình\n",
    "model.fit(x_train, y_train, batch_size=1, epochs=1)"
   ]
  },
  {
   "cell_type": "code",
   "execution_count": null,
   "id": "9dc93176",
   "metadata": {},
   "outputs": [],
   "source": [
    "# Dự đoán trên tập test\n",
    "test_data = scaled_data[training_data_len - 60:, :]\n",
    "x_test, y_test = [], msn['Price Change'].values[training_data_len:]\n",
    "\n",
    "for i in range(60, len(test_data)):\n",
    "    x_test.append(test_data[i-60:i, 0])\n",
    "\n",
    "x_test = np.array(x_test)\n",
    "x_test = np.reshape(x_test, (x_test.shape[0], x_test.shape[1], 1))\n",
    "\n",
    "predictions = model.predict(x_test)\n",
    "predictions = scaler.inverse_transform(predictions)"
   ]
  },
  {
   "cell_type": "code",
   "execution_count": null,
   "id": "8507b609",
   "metadata": {},
   "outputs": [],
   "source": [
    "# Tính RMSE\n",
    "rmse = np.sqrt(mean_squared_error(y_test, predictions))\n",
    "print(\"Root Mean Squared Error (RMSE):\", rmse)"
   ]
  },
  {
   "cell_type": "markdown",
   "id": "ebc386a1",
   "metadata": {},
   "source": [
    "MSN STOCK PRICE PREDICTION"
   ]
  },
  {
   "cell_type": "code",
   "execution_count": null,
   "id": "7f251115",
   "metadata": {},
   "outputs": [],
   "source": [
    "# Vẽ biểu đồ\n",
    "train = msn[:training_data_len]\n",
    "valid = msn[training_data_len:].copy()\n",
    "valid['Predictions'] = predictions\n",
    "plt.figure(figsize=(16, 6))\n",
    "plt.title('MSN Stock Price Prediction')\n",
    "plt.xlabel('Date', fontsize=18)\n",
    "plt.ylabel('Close Price', fontsize=18)\n",
    "plt.plot(train['Close'])\n",
    "plt.plot(valid['Close'])\n",
    "plt.plot(valid['Predictions'])\n",
    "plt.ylim(40,120)\n",
    "plt.legend(['Close','Predictions'], loc='lower right')\n",
    "\n",
    "plt.show()\n"
   ]
  },
  {
   "cell_type": "markdown",
   "id": "b2940a1d",
   "metadata": {},
   "source": [
    "MSN STOCK PRICE CHANGE"
   ]
  },
  {
   "cell_type": "code",
   "execution_count": null,
   "id": "f1516343",
   "metadata": {},
   "outputs": [],
   "source": [
    "plt.figure(figsize=(16,6))\n",
    "plt.xlabel('Date', fontsize=18)\n",
    "plt.plot(valid['Close'],  label='Close Price')\n",
    "plt.ylabel('Close Price', fontsize=18)\n",
    "plt.legend()\n",
    "plt.twinx()\n",
    "plt.plot(valid.index, valid['Price Change'], color='red', linestyle='dashed',  label='Price Change')\n",
    "plt.ylabel('Price Change', fontsize=18)\n",
    "plt.legend(loc='upper left')\n",
    "plt.show()"
   ]
  },
  {
   "cell_type": "code",
   "execution_count": null,
   "id": "4d7af275",
   "metadata": {},
   "outputs": [],
   "source": [
    "valid"
   ]
  },
  {
   "cell_type": "markdown",
   "id": "cf4b34e9",
   "metadata": {},
   "source": [
    "3. PNJ"
   ]
  },
  {
   "cell_type": "code",
   "execution_count": null,
   "id": "99826527",
   "metadata": {},
   "outputs": [],
   "source": [
    "pnj.head()"
   ]
  },
  {
   "cell_type": "markdown",
   "id": "ee455460",
   "metadata": {},
   "source": [
    "CLOSING PRICE OF PNJ"
   ]
  },
  {
   "cell_type": "code",
   "execution_count": null,
   "id": "c1d8eb66",
   "metadata": {},
   "outputs": [],
   "source": [
    "plt.figure(figsize=(16, 6))\n",
    "plt.title('Close Price History - PNJ')\n",
    "plt.plot(pnj['Close'])\n",
    "plt.xlabel('Date', fontsize=18)\n",
    "plt.ylabel('Close Price', fontsize=18)\n",
    "plt.show()"
   ]
  },
  {
   "cell_type": "code",
   "execution_count": null,
   "id": "b7503e2a",
   "metadata": {},
   "outputs": [],
   "source": [
    "# Tính biến động giá cổ phiếu\n",
    "N = 1 # Đổi thành số phút, giờ hoặc ngày mà bạn muốn tính biến động\n",
    "pnj['Close Future'] = pnj['Close'].shift(-N)\n",
    "pnj['Price Change'] = pnj['Close Future'] - pnj['Close']\n",
    "\n",
    "# Loại bỏ dòng có giá trị NaN\n",
    "pnj.dropna(inplace=True)"
   ]
  },
  {
   "cell_type": "code",
   "execution_count": null,
   "id": "a072b4bf",
   "metadata": {},
   "outputs": [],
   "source": [
    "pnj.head()"
   ]
  },
  {
   "cell_type": "code",
   "execution_count": null,
   "id": "2fc351e6",
   "metadata": {},
   "outputs": [],
   "source": [
    "# Chuẩn hóa dữ liệu\n",
    "scaler = MinMaxScaler(feature_range=(0, 1))\n",
    "scaled_data = scaler.fit_transform(pnj['Price Change'].values.reshape(-1, 1))"
   ]
  },
  {
   "cell_type": "code",
   "execution_count": null,
   "id": "a48fafae",
   "metadata": {},
   "outputs": [],
   "source": [
    "# Tạo training set và test set\n",
    "training_data_len = int(np.ceil(len(scaled_data) * .95))\n",
    "train_data = scaled_data[0:training_data_len, :]"
   ]
  },
  {
   "cell_type": "code",
   "execution_count": null,
   "id": "1e267a50",
   "metadata": {},
   "outputs": [],
   "source": [
    "# Tạo dữ liệu huấn luyện\n",
    "x_train, y_train = [], []\n",
    "for i in range(60, len(train_data)):\n",
    "    x_train.append(train_data[i-60:i, 0])\n",
    "    y_train.append(train_data[i, 0])\n",
    "\n",
    "x_train, y_train = np.array(x_train), np.array(y_train)\n",
    "x_train = np.reshape(x_train, (x_train.shape[0], x_train.shape[1], 1))"
   ]
  },
  {
   "cell_type": "code",
   "execution_count": null,
   "id": "59258947",
   "metadata": {},
   "outputs": [],
   "source": [
    "# Xây dựng mô hình LSTM\n",
    "model = Sequential()\n",
    "model.add(LSTM(units=128, return_sequences=True, input_shape=(x_train.shape[1], 1)))\n",
    "model.add(LSTM(units=64, return_sequences=False))\n",
    "model.add(Dense(units=25))\n",
    "model.add(Dense(units=1))"
   ]
  },
  {
   "cell_type": "code",
   "execution_count": null,
   "id": "532dd273",
   "metadata": {},
   "outputs": [],
   "source": [
    "# Compile model\n",
    "model.compile(optimizer='adam', loss='mean_squared_error')"
   ]
  },
  {
   "cell_type": "code",
   "execution_count": null,
   "id": "dc2ea222",
   "metadata": {},
   "outputs": [],
   "source": [
    "# Huấn luyện mô hình\n",
    "model.fit(x_train, y_train, batch_size=1, epochs=1)"
   ]
  },
  {
   "cell_type": "code",
   "execution_count": null,
   "id": "73fafd43",
   "metadata": {},
   "outputs": [],
   "source": [
    "# Dự đoán trên tập test\n",
    "test_data = scaled_data[training_data_len - 60:, :]\n",
    "x_test, y_test = [], pnj['Price Change'].values[training_data_len:]\n",
    "\n",
    "for i in range(60, len(test_data)):\n",
    "    x_test.append(test_data[i-60:i, 0])\n",
    "\n",
    "x_test = np.array(x_test)\n",
    "x_test = np.reshape(x_test, (x_test.shape[0], x_test.shape[1], 1))\n",
    "\n",
    "predictions = model.predict(x_test)\n",
    "predictions = scaler.inverse_transform(predictions)"
   ]
  },
  {
   "cell_type": "code",
   "execution_count": null,
   "id": "5019de1a",
   "metadata": {},
   "outputs": [],
   "source": [
    "# Tính RMSE\n",
    "rmse = np.sqrt(mean_squared_error(y_test, predictions))\n",
    "print(\"Root Mean Squared Error (RMSE):\", rmse)"
   ]
  },
  {
   "cell_type": "markdown",
   "id": "6c93aefb",
   "metadata": {},
   "source": [
    "PNJ STOCK PRICE PREDICTION"
   ]
  },
  {
   "cell_type": "code",
   "execution_count": null,
   "id": "0c6d48db",
   "metadata": {},
   "outputs": [],
   "source": [
    "# Vẽ biểu đồ\n",
    "train = pnj[:training_data_len]\n",
    "valid = pnj[training_data_len:].copy()\n",
    "valid['Predictions'] = predictions\n",
    "plt.figure(figsize=(16, 6))\n",
    "plt.title('PNJ Stock Price Prediction')\n",
    "plt.xlabel('Date', fontsize=18)\n",
    "plt.ylabel('Close Price', fontsize=18)\n",
    "plt.plot(train['Close'])\n",
    "plt.plot(valid['Close'])\n",
    "plt.plot(valid['Predictions'])\n",
    "plt.ylim(40,110)\n",
    "plt.legend(['Close','Predictions'], loc='lower right')\n",
    "\n",
    "plt.show()\n"
   ]
  },
  {
   "cell_type": "markdown",
   "id": "2c7358ed",
   "metadata": {},
   "source": [
    "PNJ STOCK PRICE CHANGE"
   ]
  },
  {
   "cell_type": "code",
   "execution_count": null,
   "id": "16b22eb1",
   "metadata": {},
   "outputs": [],
   "source": [
    "plt.figure(figsize=(16,6))\n",
    "plt.xlabel('Date', fontsize=18)\n",
    "plt.plot(valid['Close'],  label='Close Price')\n",
    "plt.ylabel('Close Price', fontsize=18)\n",
    "plt.legend()\n",
    "plt.twinx()\n",
    "plt.plot(valid.index, valid['Price Change'], color='red', linestyle='dashed',  label='Price Change')\n",
    "plt.ylabel('Price Change', fontsize=18)\n",
    "plt.legend(loc='upper left')\n",
    "plt.show()"
   ]
  },
  {
   "cell_type": "code",
   "execution_count": null,
   "id": "79881576",
   "metadata": {},
   "outputs": [],
   "source": [
    "valid"
   ]
  },
  {
   "cell_type": "markdown",
   "id": "64d8db6b",
   "metadata": {},
   "source": [
    "4. vic"
   ]
  },
  {
   "cell_type": "code",
   "execution_count": 236,
   "id": "644edba2",
   "metadata": {},
   "outputs": [
    {
     "data": {
      "text/html": [
       "<div>\n",
       "<style scoped>\n",
       "    .dataframe tbody tr th:only-of-type {\n",
       "        vertical-align: middle;\n",
       "    }\n",
       "\n",
       "    .dataframe tbody tr th {\n",
       "        vertical-align: top;\n",
       "    }\n",
       "\n",
       "    .dataframe thead th {\n",
       "        text-align: right;\n",
       "    }\n",
       "</style>\n",
       "<table border=\"1\" class=\"dataframe\">\n",
       "  <thead>\n",
       "    <tr style=\"text-align: right;\">\n",
       "      <th></th>\n",
       "      <th>Ticker</th>\n",
       "      <th>Date/Time</th>\n",
       "      <th>Open</th>\n",
       "      <th>High</th>\n",
       "      <th>Low</th>\n",
       "      <th>Close</th>\n",
       "      <th>Volume</th>\n",
       "      <th>Open Interest</th>\n",
       "    </tr>\n",
       "    <tr>\n",
       "      <th>Date</th>\n",
       "      <th></th>\n",
       "      <th></th>\n",
       "      <th></th>\n",
       "      <th></th>\n",
       "      <th></th>\n",
       "      <th></th>\n",
       "      <th></th>\n",
       "      <th></th>\n",
       "    </tr>\n",
       "  </thead>\n",
       "  <tbody>\n",
       "    <tr>\n",
       "      <th>2018-10-17</th>\n",
       "      <td>VIC</td>\n",
       "      <td>2018-10-17 14:46:00</td>\n",
       "      <td>99.0</td>\n",
       "      <td>99.0</td>\n",
       "      <td>99.0</td>\n",
       "      <td>99.0</td>\n",
       "      <td>203400</td>\n",
       "      <td>0</td>\n",
       "    </tr>\n",
       "    <tr>\n",
       "      <th>2018-10-18</th>\n",
       "      <td>VIC</td>\n",
       "      <td>2018-10-18 14:46:00</td>\n",
       "      <td>99.1</td>\n",
       "      <td>99.1</td>\n",
       "      <td>99.1</td>\n",
       "      <td>99.1</td>\n",
       "      <td>88050</td>\n",
       "      <td>0</td>\n",
       "    </tr>\n",
       "    <tr>\n",
       "      <th>2018-10-19</th>\n",
       "      <td>VIC</td>\n",
       "      <td>2018-10-19 14:46:00</td>\n",
       "      <td>99.1</td>\n",
       "      <td>99.1</td>\n",
       "      <td>99.1</td>\n",
       "      <td>99.1</td>\n",
       "      <td>535710</td>\n",
       "      <td>0</td>\n",
       "    </tr>\n",
       "    <tr>\n",
       "      <th>2018-10-22</th>\n",
       "      <td>VIC</td>\n",
       "      <td>2018-10-22 14:46:00</td>\n",
       "      <td>99.1</td>\n",
       "      <td>99.1</td>\n",
       "      <td>99.1</td>\n",
       "      <td>99.1</td>\n",
       "      <td>64640</td>\n",
       "      <td>0</td>\n",
       "    </tr>\n",
       "    <tr>\n",
       "      <th>2018-10-23</th>\n",
       "      <td>VIC</td>\n",
       "      <td>2018-10-23 14:46:00</td>\n",
       "      <td>99.0</td>\n",
       "      <td>99.0</td>\n",
       "      <td>99.0</td>\n",
       "      <td>99.0</td>\n",
       "      <td>66050</td>\n",
       "      <td>0</td>\n",
       "    </tr>\n",
       "  </tbody>\n",
       "</table>\n",
       "</div>"
      ],
      "text/plain": [
       "           Ticker           Date/Time  Open  High   Low  Close  Volume  \\\n",
       "Date                                                                     \n",
       "2018-10-17    VIC 2018-10-17 14:46:00  99.0  99.0  99.0   99.0  203400   \n",
       "2018-10-18    VIC 2018-10-18 14:46:00  99.1  99.1  99.1   99.1   88050   \n",
       "2018-10-19    VIC 2018-10-19 14:46:00  99.1  99.1  99.1   99.1  535710   \n",
       "2018-10-22    VIC 2018-10-22 14:46:00  99.1  99.1  99.1   99.1   64640   \n",
       "2018-10-23    VIC 2018-10-23 14:46:00  99.0  99.0  99.0   99.0   66050   \n",
       "\n",
       "            Open Interest  \n",
       "Date                       \n",
       "2018-10-17              0  \n",
       "2018-10-18              0  \n",
       "2018-10-19              0  \n",
       "2018-10-22              0  \n",
       "2018-10-23              0  "
      ]
     },
     "execution_count": 236,
     "metadata": {},
     "output_type": "execute_result"
    }
   ],
   "source": [
    "vic.head()"
   ]
  },
  {
   "cell_type": "markdown",
   "id": "96ed1812",
   "metadata": {},
   "source": [
    "CLOSING PRICE OF VIC"
   ]
  },
  {
   "cell_type": "code",
   "execution_count": 237,
   "id": "60d3030a",
   "metadata": {},
   "outputs": [
    {
     "data": {
      "image/png": "[encoded data removed]",
      "text/plain": [
       "<Figure size 1600x600 with 1 Axes>"
      ]
     },
     "metadata": {},
     "output_type": "display_data"
    }
   ],
   "source": [
    "plt.figure(figsize=(16, 6))\n",
    "plt.title('Close Price History - MSN')\n",
    "plt.plot(vic['Close'])\n",
    "plt.xlabel('Date', fontsize=18)\n",
    "plt.ylabel('Close Price', fontsize=18)\n",
    "plt.show()"
   ]
  },
  {
   "cell_type": "code",
   "execution_count": 238,
   "id": "90aedead",
   "metadata": {},
   "outputs": [],
   "source": [
    "# Tính biến động giá cổ phiếu\n",
    "N = 1 # Đổi thành số phút, giờ hoặc ngày mà bạn muốn tính biến động\n",
    "vic['Close Future'] = vic['Close'].shift(-N)\n",
    "vic['Price Change'] = vic['Close Future'] - vic['Close']\n",
    "\n",
    "# Loại bỏ dòng có giá trị NaN\n",
    "vic.dropna(inplace=True)"
   ]
  },
  {
   "cell_type": "code",
   "execution_count": 239,
   "id": "78899532",
   "metadata": {},
   "outputs": [
    {
     "data": {
      "text/html": [
       "<div>\n",
       "<style scoped>\n",
       "    .dataframe tbody tr th:only-of-type {\n",
       "        vertical-align: middle;\n",
       "    }\n",
       "\n",
       "    .dataframe tbody tr th {\n",
       "        vertical-align: top;\n",
       "    }\n",
       "\n",
       "    .dataframe thead th {\n",
       "        text-align: right;\n",
       "    }\n",
       "</style>\n",
       "<table border=\"1\" class=\"dataframe\">\n",
       "  <thead>\n",
       "    <tr style=\"text-align: right;\">\n",
       "      <th></th>\n",
       "      <th>Ticker</th>\n",
       "      <th>Date/Time</th>\n",
       "      <th>Open</th>\n",
       "      <th>High</th>\n",
       "      <th>Low</th>\n",
       "      <th>Close</th>\n",
       "      <th>Volume</th>\n",
       "      <th>Open Interest</th>\n",
       "      <th>Close Future</th>\n",
       "      <th>Price Change</th>\n",
       "    </tr>\n",
       "    <tr>\n",
       "      <th>Date</th>\n",
       "      <th></th>\n",
       "      <th></th>\n",
       "      <th></th>\n",
       "      <th></th>\n",
       "      <th></th>\n",
       "      <th></th>\n",
       "      <th></th>\n",
       "      <th></th>\n",
       "      <th></th>\n",
       "      <th></th>\n",
       "    </tr>\n",
       "  </thead>\n",
       "  <tbody>\n",
       "    <tr>\n",
       "      <th>2018-10-17</th>\n",
       "      <td>VIC</td>\n",
       "      <td>2018-10-17 14:46:00</td>\n",
       "      <td>99.0</td>\n",
       "      <td>99.0</td>\n",
       "      <td>99.0</td>\n",
       "      <td>99.0</td>\n",
       "      <td>203400</td>\n",
       "      <td>0</td>\n",
       "      <td>99.1</td>\n",
       "      <td>0.1</td>\n",
       "    </tr>\n",
       "    <tr>\n",
       "      <th>2018-10-18</th>\n",
       "      <td>VIC</td>\n",
       "      <td>2018-10-18 14:46:00</td>\n",
       "      <td>99.1</td>\n",
       "      <td>99.1</td>\n",
       "      <td>99.1</td>\n",
       "      <td>99.1</td>\n",
       "      <td>88050</td>\n",
       "      <td>0</td>\n",
       "      <td>99.1</td>\n",
       "      <td>0.0</td>\n",
       "    </tr>\n",
       "    <tr>\n",
       "      <th>2018-10-19</th>\n",
       "      <td>VIC</td>\n",
       "      <td>2018-10-19 14:46:00</td>\n",
       "      <td>99.1</td>\n",
       "      <td>99.1</td>\n",
       "      <td>99.1</td>\n",
       "      <td>99.1</td>\n",
       "      <td>535710</td>\n",
       "      <td>0</td>\n",
       "      <td>99.1</td>\n",
       "      <td>0.0</td>\n",
       "    </tr>\n",
       "    <tr>\n",
       "      <th>2018-10-22</th>\n",
       "      <td>VIC</td>\n",
       "      <td>2018-10-22 14:46:00</td>\n",
       "      <td>99.1</td>\n",
       "      <td>99.1</td>\n",
       "      <td>99.1</td>\n",
       "      <td>99.1</td>\n",
       "      <td>64640</td>\n",
       "      <td>0</td>\n",
       "      <td>99.0</td>\n",
       "      <td>-0.1</td>\n",
       "    </tr>\n",
       "    <tr>\n",
       "      <th>2018-10-23</th>\n",
       "      <td>VIC</td>\n",
       "      <td>2018-10-23 14:46:00</td>\n",
       "      <td>99.0</td>\n",
       "      <td>99.0</td>\n",
       "      <td>99.0</td>\n",
       "      <td>99.0</td>\n",
       "      <td>66050</td>\n",
       "      <td>0</td>\n",
       "      <td>98.8</td>\n",
       "      <td>-0.2</td>\n",
       "    </tr>\n",
       "  </tbody>\n",
       "</table>\n",
       "</div>"
      ],
      "text/plain": [
       "           Ticker           Date/Time  Open  High   Low  Close  Volume  \\\n",
       "Date                                                                     \n",
       "2018-10-17    VIC 2018-10-17 14:46:00  99.0  99.0  99.0   99.0  203400   \n",
       "2018-10-18    VIC 2018-10-18 14:46:00  99.1  99.1  99.1   99.1   88050   \n",
       "2018-10-19    VIC 2018-10-19 14:46:00  99.1  99.1  99.1   99.1  535710   \n",
       "2018-10-22    VIC 2018-10-22 14:46:00  99.1  99.1  99.1   99.1   64640   \n",
       "2018-10-23    VIC 2018-10-23 14:46:00  99.0  99.0  99.0   99.0   66050   \n",
       "\n",
       "            Open Interest  Close Future  Price Change  \n",
       "Date                                                   \n",
       "2018-10-17              0          99.1           0.1  \n",
       "2018-10-18              0          99.1           0.0  \n",
       "2018-10-19              0          99.1           0.0  \n",
       "2018-10-22              0          99.0          -0.1  \n",
       "2018-10-23              0          98.8          -0.2  "
      ]
     },
     "execution_count": 239,
     "metadata": {},
     "output_type": "execute_result"
    }
   ],
   "source": [
    "vic.head()"
   ]
  },
  {
   "cell_type": "code",
   "execution_count": 241,
   "id": "8a97dc93",
   "metadata": {},
   "outputs": [],
   "source": [
    "# Chuẩn hóa dữ liệu\n",
    "scaler = MinMaxScaler(feature_range=(0, 1))\n",
    "scaled_data = scaler.fit_transform(vic['Price Change'].values.reshape(-1, 1))"
   ]
  },
  {
   "cell_type": "code",
   "execution_count": 242,
   "id": "2bf09839",
   "metadata": {},
   "outputs": [],
   "source": [
    "# Tạo training set và test set\n",
    "training_data_len = int(np.ceil(len(scaled_data) * .95))\n",
    "train_data = scaled_data[0:training_data_len, :]"
   ]
  },
  {
   "cell_type": "code",
   "execution_count": 243,
   "id": "f63884ab",
   "metadata": {},
   "outputs": [],
   "source": [
    "# Tạo dữ liệu huấn luyện\n",
    "x_train, y_train = [], []\n",
    "for i in range(60, len(train_data)):\n",
    "    x_train.append(train_data[i-60:i, 0])\n",
    "    y_train.append(train_data[i, 0])\n",
    "\n",
    "x_train, y_train = np.array(x_train), np.array(y_train)\n",
    "x_train = np.reshape(x_train, (x_train.shape[0], x_train.shape[1], 1))"
   ]
  },
  {
   "cell_type": "code",
   "execution_count": 244,
   "id": "8711488e",
   "metadata": {},
   "outputs": [],
   "source": [
    "# Xây dựng mô hình LSTM\n",
    "model = Sequential()\n",
    "model.add(LSTM(units=128, return_sequences=True, input_shape=(x_train.shape[1], 1)))\n",
    "model.add(LSTM(units=64, return_sequences=False))\n",
    "model.add(Dense(units=25))\n",
    "model.add(Dense(units=1))"
   ]
  },
  {
   "cell_type": "code",
   "execution_count": 245,
   "id": "e4ed8301",
   "metadata": {},
   "outputs": [],
   "source": [
    "# Compile model\n",
    "model.compile(optimizer='adam', loss='mean_squared_error')"
   ]
  },
  {
   "cell_type": "code",
   "execution_count": 246,
   "id": "ffd36ea5",
   "metadata": {},
   "outputs": [
    {
     "name": "stdout",
     "output_type": "stream",
     "text": [
      "456/456 [==============================] - 11s 15ms/step - loss: 0.0196\n"
     ]
    },
    {
     "data": {
      "text/plain": [
       "<keras.src.callbacks.History at 0x2bbe40b3050>"
      ]
     },
     "execution_count": 246,
     "metadata": {},
     "output_type": "execute_result"
    }
   ],
   "source": [
    "# Huấn luyện mô hình\n",
    "model.fit(x_train, y_train, batch_size=1, epochs=1)"
   ]
  },
  {
   "cell_type": "code",
   "execution_count": 247,
   "id": "88bb20ce",
   "metadata": {},
   "outputs": [
    {
     "name": "stdout",
     "output_type": "stream",
     "text": [
      "1/1 [==============================] - 1s 1s/step\n"
     ]
    }
   ],
   "source": [
    "# Dự đoán trên tập test\n",
    "test_data = scaled_data[training_data_len - 60:, :]\n",
    "x_test, y_test = [], vic['Price Change'].values[training_data_len:]\n",
    "\n",
    "for i in range(60, len(test_data)):\n",
    "    x_test.append(test_data[i-60:i, 0])\n",
    "\n",
    "x_test = np.array(x_test)\n",
    "x_test = np.reshape(x_test, (x_test.shape[0], x_test.shape[1], 1))\n",
    "\n",
    "predictions = model.predict(x_test)\n",
    "predictions = scaler.inverse_transform(predictions)"
   ]
  },
  {
   "cell_type": "code",
   "execution_count": 248,
   "id": "88df24e6",
   "metadata": {},
   "outputs": [
    {
     "name": "stdout",
     "output_type": "stream",
     "text": [
      "Root Mean Squared Error (RMSE): 1.8048781731509709\n"
     ]
    }
   ],
   "source": [
    "# Tính RMSE\n",
    "rmse = np.sqrt(mean_squared_error(y_test, predictions))\n",
    "print(\"Root Mean Squared Error (RMSE):\", rmse)"
   ]
  },
  {
   "cell_type": "markdown",
   "id": "e7e6509e",
   "metadata": {},
   "source": [
    "VIC STOCK PRICE PREDICTION"
   ]
  },
  {
   "cell_type": "code",
   "execution_count": 250,
   "id": "8313d02d",
   "metadata": {},
   "outputs": [
    {
     "data": {
      "image/png": "[encoded data removed]",
      "text/plain": [
       "<Figure size 1600x600 with 1 Axes>"
      ]
     },
     "metadata": {},
     "output_type": "display_data"
    }
   ],
   "source": [
    "# Vẽ biểu đồ\n",
    "train = vic[:training_data_len]\n",
    "valid = vic[training_data_len:].copy()\n",
    "valid['Predictions'] = predictions\n",
    "plt.figure(figsize=(16, 6))\n",
    "plt.title('VIC Stock Price Prediction')\n",
    "plt.xlabel('Date', fontsize=18)\n",
    "plt.ylabel('Close Price', fontsize=18)\n",
    "plt.plot(train['Close'])\n",
    "plt.plot(valid['Close'])\n",
    "plt.plot(valid['Predictions'])\n",
    "plt.ylim(60,130)\n",
    "plt.legend(['Close','Predictions'], loc='lower right')\n",
    "\n",
    "plt.show()\n"
   ]
  },
  {
   "cell_type": "markdown",
   "id": "6a89acc6",
   "metadata": {},
   "source": [
    "VIC STOCK PRICE CHANGE"
   ]
  },
  {
   "cell_type": "code",
   "execution_count": 251,
   "id": "40c269b5",
   "metadata": {},
   "outputs": [
    {
     "data": {
      "image/png": "[encoded data removed]",
      "text/plain": [
       "<Figure size 1600x600 with 2 Axes>"
      ]
     },
     "metadata": {},
     "output_type": "display_data"
    }
   ],
   "source": [
    "plt.figure(figsize=(16,6))\n",
    "plt.xlabel('Date', fontsize=18)\n",
    "plt.plot(valid['Close'],  label='Close Price')\n",
    "plt.ylabel('Close Price', fontsize=18)\n",
    "plt.legend()\n",
    "plt.twinx()\n",
    "plt.plot(valid.index, valid['Price Change'], color='red', linestyle='dashed',  label='Price Change')\n",
    "plt.ylabel('Price Change', fontsize=18)\n",
    "plt.legend(loc='upper left')\n",
    "plt.show()"
   ]
  },
  {
   "cell_type": "code",
   "execution_count": 252,
   "id": "7eb4d37e",
   "metadata": {},
   "outputs": [
    {
     "data": {
      "text/html": [
       "<div>\n",
       "<style scoped>\n",
       "    .dataframe tbody tr th:only-of-type {\n",
       "        vertical-align: middle;\n",
       "    }\n",
       "\n",
       "    .dataframe tbody tr th {\n",
       "        vertical-align: top;\n",
       "    }\n",
       "\n",
       "    .dataframe thead th {\n",
       "        text-align: right;\n",
       "    }\n",
       "</style>\n",
       "<table border=\"1\" class=\"dataframe\">\n",
       "  <thead>\n",
       "    <tr style=\"text-align: right;\">\n",
       "      <th></th>\n",
       "      <th>Ticker</th>\n",
       "      <th>Date/Time</th>\n",
       "      <th>Open</th>\n",
       "      <th>High</th>\n",
       "      <th>Low</th>\n",
       "      <th>Close</th>\n",
       "      <th>Volume</th>\n",
       "      <th>Open Interest</th>\n",
       "      <th>Close Future</th>\n",
       "      <th>Price Change</th>\n",
       "      <th>Predictions</th>\n",
       "    </tr>\n",
       "    <tr>\n",
       "      <th>Date</th>\n",
       "      <th></th>\n",
       "      <th></th>\n",
       "      <th></th>\n",
       "      <th></th>\n",
       "      <th></th>\n",
       "      <th></th>\n",
       "      <th></th>\n",
       "      <th></th>\n",
       "      <th></th>\n",
       "      <th></th>\n",
       "      <th></th>\n",
       "    </tr>\n",
       "  </thead>\n",
       "  <tbody>\n",
       "    <tr>\n",
       "      <th>2020-11-13</th>\n",
       "      <td>VIC</td>\n",
       "      <td>2020-11-13 14:46:00</td>\n",
       "      <td>107.4</td>\n",
       "      <td>107.4</td>\n",
       "      <td>107.4</td>\n",
       "      <td>107.4</td>\n",
       "      <td>64290</td>\n",
       "      <td>0</td>\n",
       "      <td>102.0</td>\n",
       "      <td>-5.4</td>\n",
       "      <td>0.577594</td>\n",
       "    </tr>\n",
       "    <tr>\n",
       "      <th>2020-11-16</th>\n",
       "      <td>VIC</td>\n",
       "      <td>2020-11-16 14:46:00</td>\n",
       "      <td>102.0</td>\n",
       "      <td>102.0</td>\n",
       "      <td>102.0</td>\n",
       "      <td>102.0</td>\n",
       "      <td>256790</td>\n",
       "      <td>0</td>\n",
       "      <td>106.0</td>\n",
       "      <td>4.0</td>\n",
       "      <td>0.392356</td>\n",
       "    </tr>\n",
       "    <tr>\n",
       "      <th>2020-11-17</th>\n",
       "      <td>VIC</td>\n",
       "      <td>2020-11-17 14:46:00</td>\n",
       "      <td>106.0</td>\n",
       "      <td>106.0</td>\n",
       "      <td>106.0</td>\n",
       "      <td>106.0</td>\n",
       "      <td>54880</td>\n",
       "      <td>0</td>\n",
       "      <td>104.9</td>\n",
       "      <td>-1.1</td>\n",
       "      <td>0.429148</td>\n",
       "    </tr>\n",
       "    <tr>\n",
       "      <th>2020-11-18</th>\n",
       "      <td>VIC</td>\n",
       "      <td>2020-11-18 14:46:00</td>\n",
       "      <td>104.9</td>\n",
       "      <td>104.9</td>\n",
       "      <td>104.9</td>\n",
       "      <td>104.9</td>\n",
       "      <td>64510</td>\n",
       "      <td>0</td>\n",
       "      <td>104.0</td>\n",
       "      <td>-0.9</td>\n",
       "      <td>0.416954</td>\n",
       "    </tr>\n",
       "    <tr>\n",
       "      <th>2020-11-19</th>\n",
       "      <td>VIC</td>\n",
       "      <td>2020-11-19 14:46:00</td>\n",
       "      <td>104.0</td>\n",
       "      <td>104.0</td>\n",
       "      <td>104.0</td>\n",
       "      <td>104.0</td>\n",
       "      <td>392850</td>\n",
       "      <td>0</td>\n",
       "      <td>103.8</td>\n",
       "      <td>-0.2</td>\n",
       "      <td>0.380773</td>\n",
       "    </tr>\n",
       "    <tr>\n",
       "      <th>2020-11-20</th>\n",
       "      <td>VIC</td>\n",
       "      <td>2020-11-20 14:46:00</td>\n",
       "      <td>103.8</td>\n",
       "      <td>103.8</td>\n",
       "      <td>103.8</td>\n",
       "      <td>103.8</td>\n",
       "      <td>29070</td>\n",
       "      <td>0</td>\n",
       "      <td>103.8</td>\n",
       "      <td>0.0</td>\n",
       "      <td>0.359269</td>\n",
       "    </tr>\n",
       "    <tr>\n",
       "      <th>2020-11-23</th>\n",
       "      <td>VIC</td>\n",
       "      <td>2020-11-23 14:46:00</td>\n",
       "      <td>103.8</td>\n",
       "      <td>103.8</td>\n",
       "      <td>103.8</td>\n",
       "      <td>103.8</td>\n",
       "      <td>55350</td>\n",
       "      <td>0</td>\n",
       "      <td>104.0</td>\n",
       "      <td>0.2</td>\n",
       "      <td>0.355138</td>\n",
       "    </tr>\n",
       "    <tr>\n",
       "      <th>2020-11-24</th>\n",
       "      <td>VIC</td>\n",
       "      <td>2020-11-24 14:46:00</td>\n",
       "      <td>104.0</td>\n",
       "      <td>104.0</td>\n",
       "      <td>104.0</td>\n",
       "      <td>104.0</td>\n",
       "      <td>32360</td>\n",
       "      <td>0</td>\n",
       "      <td>105.6</td>\n",
       "      <td>1.6</td>\n",
       "      <td>0.367591</td>\n",
       "    </tr>\n",
       "    <tr>\n",
       "      <th>2020-11-25</th>\n",
       "      <td>VIC</td>\n",
       "      <td>2020-11-25 14:46:00</td>\n",
       "      <td>105.6</td>\n",
       "      <td>105.6</td>\n",
       "      <td>105.6</td>\n",
       "      <td>105.6</td>\n",
       "      <td>38750</td>\n",
       "      <td>0</td>\n",
       "      <td>106.1</td>\n",
       "      <td>0.5</td>\n",
       "      <td>0.435441</td>\n",
       "    </tr>\n",
       "    <tr>\n",
       "      <th>2020-11-26</th>\n",
       "      <td>VIC</td>\n",
       "      <td>2020-11-26 14:46:00</td>\n",
       "      <td>106.1</td>\n",
       "      <td>106.1</td>\n",
       "      <td>106.1</td>\n",
       "      <td>106.1</td>\n",
       "      <td>42140</td>\n",
       "      <td>0</td>\n",
       "      <td>105.2</td>\n",
       "      <td>-0.9</td>\n",
       "      <td>0.490056</td>\n",
       "    </tr>\n",
       "    <tr>\n",
       "      <th>2020-11-27</th>\n",
       "      <td>VIC</td>\n",
       "      <td>2020-11-27 14:46:00</td>\n",
       "      <td>105.2</td>\n",
       "      <td>105.2</td>\n",
       "      <td>105.2</td>\n",
       "      <td>105.2</td>\n",
       "      <td>100830</td>\n",
       "      <td>0</td>\n",
       "      <td>103.9</td>\n",
       "      <td>-1.3</td>\n",
       "      <td>0.483679</td>\n",
       "    </tr>\n",
       "    <tr>\n",
       "      <th>2020-11-30</th>\n",
       "      <td>VIC</td>\n",
       "      <td>2020-11-30 14:46:00</td>\n",
       "      <td>103.9</td>\n",
       "      <td>103.9</td>\n",
       "      <td>103.9</td>\n",
       "      <td>103.9</td>\n",
       "      <td>565260</td>\n",
       "      <td>0</td>\n",
       "      <td>105.0</td>\n",
       "      <td>1.1</td>\n",
       "      <td>0.430218</td>\n",
       "    </tr>\n",
       "    <tr>\n",
       "      <th>2020-12-01</th>\n",
       "      <td>VIC</td>\n",
       "      <td>2020-12-01 14:46:00</td>\n",
       "      <td>105.0</td>\n",
       "      <td>105.0</td>\n",
       "      <td>105.0</td>\n",
       "      <td>105.0</td>\n",
       "      <td>111670</td>\n",
       "      <td>0</td>\n",
       "      <td>105.0</td>\n",
       "      <td>0.0</td>\n",
       "      <td>0.438356</td>\n",
       "    </tr>\n",
       "    <tr>\n",
       "      <th>2020-12-02</th>\n",
       "      <td>VIC</td>\n",
       "      <td>2020-12-02 14:46:00</td>\n",
       "      <td>105.0</td>\n",
       "      <td>105.0</td>\n",
       "      <td>105.0</td>\n",
       "      <td>105.0</td>\n",
       "      <td>68040</td>\n",
       "      <td>0</td>\n",
       "      <td>105.8</td>\n",
       "      <td>0.8</td>\n",
       "      <td>0.443800</td>\n",
       "    </tr>\n",
       "    <tr>\n",
       "      <th>2020-12-03</th>\n",
       "      <td>VIC</td>\n",
       "      <td>2020-12-03 14:46:00</td>\n",
       "      <td>105.8</td>\n",
       "      <td>105.8</td>\n",
       "      <td>105.8</td>\n",
       "      <td>105.8</td>\n",
       "      <td>61840</td>\n",
       "      <td>0</td>\n",
       "      <td>105.8</td>\n",
       "      <td>0.0</td>\n",
       "      <td>0.473293</td>\n",
       "    </tr>\n",
       "    <tr>\n",
       "      <th>2020-12-04</th>\n",
       "      <td>VIC</td>\n",
       "      <td>2020-12-04 14:46:00</td>\n",
       "      <td>105.8</td>\n",
       "      <td>105.8</td>\n",
       "      <td>105.8</td>\n",
       "      <td>105.8</td>\n",
       "      <td>109930</td>\n",
       "      <td>0</td>\n",
       "      <td>105.8</td>\n",
       "      <td>0.0</td>\n",
       "      <td>0.486405</td>\n",
       "    </tr>\n",
       "    <tr>\n",
       "      <th>2020-12-07</th>\n",
       "      <td>VIC</td>\n",
       "      <td>2020-12-07 14:46:00</td>\n",
       "      <td>105.8</td>\n",
       "      <td>105.8</td>\n",
       "      <td>105.8</td>\n",
       "      <td>105.8</td>\n",
       "      <td>115430</td>\n",
       "      <td>0</td>\n",
       "      <td>105.0</td>\n",
       "      <td>-0.8</td>\n",
       "      <td>0.488647</td>\n",
       "    </tr>\n",
       "    <tr>\n",
       "      <th>2020-12-08</th>\n",
       "      <td>VIC</td>\n",
       "      <td>2020-12-08 14:46:00</td>\n",
       "      <td>105.0</td>\n",
       "      <td>105.0</td>\n",
       "      <td>105.0</td>\n",
       "      <td>105.0</td>\n",
       "      <td>20470</td>\n",
       "      <td>0</td>\n",
       "      <td>106.0</td>\n",
       "      <td>1.0</td>\n",
       "      <td>0.457712</td>\n",
       "    </tr>\n",
       "    <tr>\n",
       "      <th>2020-12-09</th>\n",
       "      <td>VIC</td>\n",
       "      <td>2020-12-09 14:46:00</td>\n",
       "      <td>106.0</td>\n",
       "      <td>106.0</td>\n",
       "      <td>106.0</td>\n",
       "      <td>106.0</td>\n",
       "      <td>144960</td>\n",
       "      <td>0</td>\n",
       "      <td>104.9</td>\n",
       "      <td>-1.1</td>\n",
       "      <td>0.472505</td>\n",
       "    </tr>\n",
       "    <tr>\n",
       "      <th>2020-12-10</th>\n",
       "      <td>VIC</td>\n",
       "      <td>2020-12-10 14:46:00</td>\n",
       "      <td>104.9</td>\n",
       "      <td>104.9</td>\n",
       "      <td>104.9</td>\n",
       "      <td>104.9</td>\n",
       "      <td>153290</td>\n",
       "      <td>0</td>\n",
       "      <td>106.8</td>\n",
       "      <td>1.9</td>\n",
       "      <td>0.440800</td>\n",
       "    </tr>\n",
       "    <tr>\n",
       "      <th>2020-12-11</th>\n",
       "      <td>VIC</td>\n",
       "      <td>2020-12-11 14:46:00</td>\n",
       "      <td>106.8</td>\n",
       "      <td>106.8</td>\n",
       "      <td>106.8</td>\n",
       "      <td>106.8</td>\n",
       "      <td>171020</td>\n",
       "      <td>0</td>\n",
       "      <td>108.9</td>\n",
       "      <td>2.1</td>\n",
       "      <td>0.487132</td>\n",
       "    </tr>\n",
       "    <tr>\n",
       "      <th>2020-12-14</th>\n",
       "      <td>VIC</td>\n",
       "      <td>2020-12-14 14:46:00</td>\n",
       "      <td>108.9</td>\n",
       "      <td>108.9</td>\n",
       "      <td>108.9</td>\n",
       "      <td>108.9</td>\n",
       "      <td>396490</td>\n",
       "      <td>0</td>\n",
       "      <td>107.0</td>\n",
       "      <td>-1.9</td>\n",
       "      <td>0.580129</td>\n",
       "    </tr>\n",
       "    <tr>\n",
       "      <th>2020-12-15</th>\n",
       "      <td>VIC</td>\n",
       "      <td>2020-12-15 14:46:00</td>\n",
       "      <td>107.0</td>\n",
       "      <td>107.0</td>\n",
       "      <td>107.0</td>\n",
       "      <td>107.0</td>\n",
       "      <td>128810</td>\n",
       "      <td>0</td>\n",
       "      <td>107.0</td>\n",
       "      <td>0.0</td>\n",
       "      <td>0.554093</td>\n",
       "    </tr>\n",
       "    <tr>\n",
       "      <th>2020-12-16</th>\n",
       "      <td>VIC</td>\n",
       "      <td>2020-12-16 14:46:00</td>\n",
       "      <td>107.0</td>\n",
       "      <td>107.0</td>\n",
       "      <td>107.0</td>\n",
       "      <td>107.0</td>\n",
       "      <td>116680</td>\n",
       "      <td>0</td>\n",
       "      <td>104.7</td>\n",
       "      <td>-2.3</td>\n",
       "      <td>0.526936</td>\n",
       "    </tr>\n",
       "    <tr>\n",
       "      <th>2020-12-17</th>\n",
       "      <td>VIC</td>\n",
       "      <td>2020-12-17 14:46:00</td>\n",
       "      <td>104.7</td>\n",
       "      <td>104.7</td>\n",
       "      <td>104.7</td>\n",
       "      <td>104.7</td>\n",
       "      <td>3000</td>\n",
       "      <td>0</td>\n",
       "      <td>104.7</td>\n",
       "      <td>0.0</td>\n",
       "      <td>0.425719</td>\n",
       "    </tr>\n",
       "    <tr>\n",
       "      <th>2020-12-18</th>\n",
       "      <td>VIC</td>\n",
       "      <td>2020-12-18 14:46:00</td>\n",
       "      <td>104.7</td>\n",
       "      <td>104.7</td>\n",
       "      <td>104.7</td>\n",
       "      <td>104.7</td>\n",
       "      <td>493280</td>\n",
       "      <td>0</td>\n",
       "      <td>106.4</td>\n",
       "      <td>1.7</td>\n",
       "      <td>0.370596</td>\n",
       "    </tr>\n",
       "    <tr>\n",
       "      <th>2020-12-21</th>\n",
       "      <td>VIC</td>\n",
       "      <td>2020-12-21 14:46:00</td>\n",
       "      <td>106.4</td>\n",
       "      <td>106.4</td>\n",
       "      <td>106.4</td>\n",
       "      <td>106.4</td>\n",
       "      <td>119870</td>\n",
       "      <td>0</td>\n",
       "      <td>105.7</td>\n",
       "      <td>-0.7</td>\n",
       "      <td>0.406222</td>\n",
       "    </tr>\n",
       "  </tbody>\n",
       "</table>\n",
       "</div>"
      ],
      "text/plain": [
       "           Ticker           Date/Time   Open   High    Low  Close  Volume  \\\n",
       "Date                                                                        \n",
       "2020-11-13    VIC 2020-11-13 14:46:00  107.4  107.4  107.4  107.4   64290   \n",
       "2020-11-16    VIC 2020-11-16 14:46:00  102.0  102.0  102.0  102.0  256790   \n",
       "2020-11-17    VIC 2020-11-17 14:46:00  106.0  106.0  106.0  106.0   54880   \n",
       "2020-11-18    VIC 2020-11-18 14:46:00  104.9  104.9  104.9  104.9   64510   \n",
       "2020-11-19    VIC 2020-11-19 14:46:00  104.0  104.0  104.0  104.0  392850   \n",
       "2020-11-20    VIC 2020-11-20 14:46:00  103.8  103.8  103.8  103.8   29070   \n",
       "2020-11-23    VIC 2020-11-23 14:46:00  103.8  103.8  103.8  103.8   55350   \n",
       "2020-11-24    VIC 2020-11-24 14:46:00  104.0  104.0  104.0  104.0   32360   \n",
       "2020-11-25    VIC 2020-11-25 14:46:00  105.6  105.6  105.6  105.6   38750   \n",
       "2020-11-26    VIC 2020-11-26 14:46:00  106.1  106.1  106.1  106.1   42140   \n",
       "2020-11-27    VIC 2020-11-27 14:46:00  105.2  105.2  105.2  105.2  100830   \n",
       "2020-11-30    VIC 2020-11-30 14:46:00  103.9  103.9  103.9  103.9  565260   \n",
       "2020-12-01    VIC 2020-12-01 14:46:00  105.0  105.0  105.0  105.0  111670   \n",
       "2020-12-02    VIC 2020-12-02 14:46:00  105.0  105.0  105.0  105.0   68040   \n",
       "2020-12-03    VIC 2020-12-03 14:46:00  105.8  105.8  105.8  105.8   61840   \n",
       "2020-12-04    VIC 2020-12-04 14:46:00  105.8  105.8  105.8  105.8  109930   \n",
       "2020-12-07    VIC 2020-12-07 14:46:00  105.8  105.8  105.8  105.8  115430   \n",
       "2020-12-08    VIC 2020-12-08 14:46:00  105.0  105.0  105.0  105.0   20470   \n",
       "2020-12-09    VIC 2020-12-09 14:46:00  106.0  106.0  106.0  106.0  144960   \n",
       "2020-12-10    VIC 2020-12-10 14:46:00  104.9  104.9  104.9  104.9  153290   \n",
       "2020-12-11    VIC 2020-12-11 14:46:00  106.8  106.8  106.8  106.8  171020   \n",
       "2020-12-14    VIC 2020-12-14 14:46:00  108.9  108.9  108.9  108.9  396490   \n",
       "2020-12-15    VIC 2020-12-15 14:46:00  107.0  107.0  107.0  107.0  128810   \n",
       "2020-12-16    VIC 2020-12-16 14:46:00  107.0  107.0  107.0  107.0  116680   \n",
       "2020-12-17    VIC 2020-12-17 14:46:00  104.7  104.7  104.7  104.7    3000   \n",
       "2020-12-18    VIC 2020-12-18 14:46:00  104.7  104.7  104.7  104.7  493280   \n",
       "2020-12-21    VIC 2020-12-21 14:46:00  106.4  106.4  106.4  106.4  119870   \n",
       "\n",
       "            Open Interest  Close Future  Price Change  Predictions  \n",
       "Date                                                                \n",
       "2020-11-13              0         102.0          -5.4     0.577594  \n",
       "2020-11-16              0         106.0           4.0     0.392356  \n",
       "2020-11-17              0         104.9          -1.1     0.429148  \n",
       "2020-11-18              0         104.0          -0.9     0.416954  \n",
       "2020-11-19              0         103.8          -0.2     0.380773  \n",
       "2020-11-20              0         103.8           0.0     0.359269  \n",
       "2020-11-23              0         104.0           0.2     0.355138  \n",
       "2020-11-24              0         105.6           1.6     0.367591  \n",
       "2020-11-25              0         106.1           0.5     0.435441  \n",
       "2020-11-26              0         105.2          -0.9     0.490056  \n",
       "2020-11-27              0         103.9          -1.3     0.483679  \n",
       "2020-11-30              0         105.0           1.1     0.430218  \n",
       "2020-12-01              0         105.0           0.0     0.438356  \n",
       "2020-12-02              0         105.8           0.8     0.443800  \n",
       "2020-12-03              0         105.8           0.0     0.473293  \n",
       "2020-12-04              0         105.8           0.0     0.486405  \n",
       "2020-12-07              0         105.0          -0.8     0.488647  \n",
       "2020-12-08              0         106.0           1.0     0.457712  \n",
       "2020-12-09              0         104.9          -1.1     0.472505  \n",
       "2020-12-10              0         106.8           1.9     0.440800  \n",
       "2020-12-11              0         108.9           2.1     0.487132  \n",
       "2020-12-14              0         107.0          -1.9     0.580129  \n",
       "2020-12-15              0         107.0           0.0     0.554093  \n",
       "2020-12-16              0         104.7          -2.3     0.526936  \n",
       "2020-12-17              0         104.7           0.0     0.425719  \n",
       "2020-12-18              0         106.4           1.7     0.370596  \n",
       "2020-12-21              0         105.7          -0.7     0.406222  "
      ]
     },
     "execution_count": 252,
     "metadata": {},
     "output_type": "execute_result"
    }
   ],
   "source": [
    "valid"
   ]
  },
  {
   "cell_type": "code",
   "execution_count": null,
   "id": "ad6db586",
   "metadata": {},
   "outputs": [],
   "source": []
  }
 ],
 "metadata": {
  "kernelspec": {
   "display_name": "Python 3 (ipykernel)",
   "language": "python",
   "name": "python3"
  },
  "language_info": {
   "codemirror_mode": {
    "name": "ipython",
    "version": 3
   },
   "file_extension": ".py",
   "mimetype": "text/x-python",
   "name": "python",
   "nbconvert_exporter": "python",
   "pygments_lexer": "ipython3",
   "version": "3.11.7"
  }
 },
 "nbformat": 4,
 "nbformat_minor": 5
}
